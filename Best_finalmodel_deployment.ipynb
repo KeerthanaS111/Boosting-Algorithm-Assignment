{
 "cells": [
  {
   "cell_type": "code",
   "execution_count": 1,
   "id": "401390cd-2176-4f59-b3fe-2a81c302393d",
   "metadata": {},
   "outputs": [],
   "source": [
    "import pickle"
   ]
  },
  {
   "cell_type": "code",
   "execution_count": 2,
   "id": "c30d142b-7b22-42c4-97f5-118bb6715587",
   "metadata": {},
   "outputs": [],
   "source": [
    "loaded_model=pickle.load(open(\"finalized_model.sav\",'rb'))"
   ]
  },
  {
   "cell_type": "code",
   "execution_count": 3,
   "id": "9a618bea-fa40-4f1b-a20a-2bfa4604253d",
   "metadata": {},
   "outputs": [],
   "source": [
    "result=loaded_model.predict([[35,21.567,2,0,1,0,1]])"
   ]
  },
  {
   "cell_type": "code",
   "execution_count": 4,
   "id": "7e20076d-d7f3-4cf0-b8fd-ec92d5bbe978",
   "metadata": {},
   "outputs": [
    {
     "data": {
      "text/plain": [
       "array([18598.85784183])"
      ]
     },
     "execution_count": 4,
     "metadata": {},
     "output_type": "execute_result"
    }
   ],
   "source": [
    "result"
   ]
  },
  {
   "cell_type": "code",
   "execution_count": null,
   "id": "341aa689-ae23-4f3e-afb2-14578057c25d",
   "metadata": {},
   "outputs": [],
   "source": []
  }
 ],
 "metadata": {
  "kernelspec": {
   "display_name": "Python 3 (ipykernel)",
   "language": "python",
   "name": "python3"
  },
  "language_info": {
   "codemirror_mode": {
    "name": "ipython",
    "version": 3
   },
   "file_extension": ".py",
   "mimetype": "text/x-python",
   "name": "python",
   "nbconvert_exporter": "python",
   "pygments_lexer": "ipython3",
   "version": "3.12.7"
  }
 },
 "nbformat": 4,
 "nbformat_minor": 5
}
